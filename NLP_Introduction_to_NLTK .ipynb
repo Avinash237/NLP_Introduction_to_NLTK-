{
 "cells": [
  {
   "cell_type": "markdown",
   "metadata": {
    "id": "XO34h3N0NMvT"
   },
   "source": [
    "**NLTK is a really powerful tool to preprocess text data for further analysis like with ML models for instance. It helps convert text into numbers, which the model can then easily work with.**https://www.nltk.org/install.html"
   ]
  },
  {
   "cell_type": "code",
   "execution_count": 1,
   "metadata": {
    "colab": {
     "base_uri": "https://localhost:8080/"
    },
    "id": "5U198QthPyi7",
    "outputId": "c732696b-7da5-4063-f52b-5528904ec212"
   },
   "outputs": [
    {
     "name": "stdout",
     "output_type": "stream",
     "text": [
      "Collecting nltk\n",
      "  Downloading nltk-3.8.1-py3-none-any.whl.metadata (2.8 kB)\n",
      "Requirement already satisfied: click in c:\\users\\dell\\appdata\\local\\programs\\python\\python312\\lib\\site-packages (from nltk) (8.1.7)\n",
      "Requirement already satisfied: joblib in c:\\users\\dell\\appdata\\local\\programs\\python\\python312\\lib\\site-packages (from nltk) (1.3.2)\n",
      "Collecting regex>=2021.8.3 (from nltk)\n",
      "  Downloading regex-2024.4.16-cp312-cp312-win_amd64.whl.metadata (41 kB)\n",
      "     ---------------------------------------- 0.0/42.0 kB ? eta -:--:--\n",
      "     --------------------------- ---------- 30.7/42.0 kB 660.6 kB/s eta 0:00:01\n",
      "     -------------------------------------  41.0/42.0 kB 667.8 kB/s eta 0:00:01\n",
      "     -------------------------------------  41.0/42.0 kB 667.8 kB/s eta 0:00:01\n",
      "     -------------------------------------  41.0/42.0 kB 667.8 kB/s eta 0:00:01\n",
      "     -------------------------------------- 42.0/42.0 kB 169.7 kB/s eta 0:00:00\n",
      "Requirement already satisfied: tqdm in c:\\users\\dell\\appdata\\local\\programs\\python\\python312\\lib\\site-packages (from nltk) (4.66.2)\n",
      "Requirement already satisfied: colorama in c:\\users\\dell\\appdata\\local\\programs\\python\\python312\\lib\\site-packages (from click->nltk) (0.4.6)\n",
      "Downloading nltk-3.8.1-py3-none-any.whl (1.5 MB)\n",
      "   ---------------------------------------- 0.0/1.5 MB ? eta -:--:--\n",
      "   -------- ------------------------------- 0.3/1.5 MB 10.2 MB/s eta 0:00:01\n",
      "   ----------------- ---------------------- 0.7/1.5 MB 8.4 MB/s eta 0:00:01\n",
      "   -------------------------- ------------- 1.0/1.5 MB 8.0 MB/s eta 0:00:01\n",
      "   ------------------------------------ --- 1.4/1.5 MB 7.9 MB/s eta 0:00:01\n",
      "   ---------------------------------------  1.5/1.5 MB 8.0 MB/s eta 0:00:01\n",
      "   ---------------------------------------  1.5/1.5 MB 8.0 MB/s eta 0:00:01\n",
      "   ---------------------------------------- 1.5/1.5 MB 4.8 MB/s eta 0:00:00\n",
      "Downloading regex-2024.4.16-cp312-cp312-win_amd64.whl (268 kB)\n",
      "   ---------------------------------------- 0.0/268.4 kB ? eta -:--:--\n",
      "   ---------------------------------------  266.2/268.4 kB 8.0 MB/s eta 0:00:01\n",
      "   ---------------------------------------  266.2/268.4 kB 8.0 MB/s eta 0:00:01\n",
      "   ---------------------------------------  266.2/268.4 kB 8.0 MB/s eta 0:00:01\n",
      "   ---------------------------------------- 268.4/268.4 kB 1.8 MB/s eta 0:00:00\n",
      "Installing collected packages: regex, nltk\n",
      "Successfully installed nltk-3.8.1 regex-2024.4.16\n"
     ]
    }
   ],
   "source": [
    "!pip install nltk"
   ]
  },
  {
   "cell_type": "code",
   "execution_count": 2,
   "metadata": {
    "id": "sfeu1AquPylw"
   },
   "outputs": [],
   "source": [
    "import nltk"
   ]
  },
  {
   "cell_type": "code",
   "execution_count": 3,
   "metadata": {
    "colab": {
     "base_uri": "https://localhost:8080/"
    },
    "id": "YPbZvYSzPypP",
    "outputId": "c89024e9-e035-437b-81fc-1d7f86a0685e"
   },
   "outputs": [
    {
     "name": "stderr",
     "output_type": "stream",
     "text": [
      "[nltk_data] Downloading package punkt to\n",
      "[nltk_data]     C:\\Users\\DELL\\AppData\\Roaming\\nltk_data...\n",
      "[nltk_data]   Unzipping tokenizers\\punkt.zip.\n",
      "[nltk_data] Downloading package stopwords to\n",
      "[nltk_data]     C:\\Users\\DELL\\AppData\\Roaming\\nltk_data...\n",
      "[nltk_data]   Unzipping corpora\\stopwords.zip.\n",
      "[nltk_data] Downloading package averaged_perceptron_tagger to\n",
      "[nltk_data]     C:\\Users\\DELL\\AppData\\Roaming\\nltk_data...\n",
      "[nltk_data]   Unzipping taggers\\averaged_perceptron_tagger.zip.\n"
     ]
    },
    {
     "data": {
      "text/plain": [
       "True"
      ]
     },
     "execution_count": 3,
     "metadata": {},
     "output_type": "execute_result"
    }
   ],
   "source": [
    "nltk.download(\"punkt\")\n",
    "nltk.download(\"stopwords\")\n",
    "nltk.download(\"averaged_perceptron_tagger\")"
   ]
  },
  {
   "cell_type": "code",
   "execution_count": null,
   "metadata": {
    "id": "owg63PlTPysV"
   },
   "outputs": [],
   "source": []
  },
  {
   "cell_type": "markdown",
   "metadata": {
    "id": "3g5it5SqNEGh"
   },
   "source": [
    "**Tokenization, Stopwords, Stemming, and PoS Tagging**"
   ]
  },
  {
   "cell_type": "markdown",
   "metadata": {
    "id": "WwIUa-eKNlPd"
   },
   "source": [
    "**Tokenization:**\n",
    "One of the very basic things we want to do is dividing a body of text into words or sentences. This is called tokenization."
   ]
  },
  {
   "cell_type": "code",
   "execution_count": 4,
   "metadata": {
    "id": "HJA6-UOBPx5B"
   },
   "outputs": [],
   "source": [
    "from nltk import word_tokenize,sent_tokenize"
   ]
  },
  {
   "cell_type": "code",
   "execution_count": 5,
   "metadata": {
    "id": "QrO9Dqb5Px9c"
   },
   "outputs": [],
   "source": [
    "sent = \"I will walk 500 miles and I would walk 500 more, just to be the man who walks a thousand miles to fall down at your door!\""
   ]
  },
  {
   "cell_type": "code",
   "execution_count": 6,
   "metadata": {
    "colab": {
     "base_uri": "https://localhost:8080/"
    },
    "id": "SHHMQV0T0TPK",
    "outputId": "fdf49efa-0e0a-410e-9ef4-814592f91d4a"
   },
   "outputs": [
    {
     "name": "stdout",
     "output_type": "stream",
     "text": [
      "['I', 'will', 'walk', '500', 'miles', 'and', 'I', 'would', 'walk', '500', 'more', ',', 'just', 'to', 'be', 'the', 'man', 'who', 'walks', 'a', 'thousand', 'miles', 'to', 'fall', 'down', 'at', 'your', 'door', '!']\n"
     ]
    }
   ],
   "source": [
    "print(word_tokenize(sent))"
   ]
  },
  {
   "cell_type": "code",
   "execution_count": 7,
   "metadata": {
    "colab": {
     "base_uri": "https://localhost:8080/"
    },
    "id": "Xy_BfOrz0h5J",
    "outputId": "ae398370-a708-47b7-9813-91e385f429a4"
   },
   "outputs": [
    {
     "name": "stdout",
     "output_type": "stream",
     "text": [
      "['I will walk 500 miles and I would walk 500 more, just to be the man who walks a thousand miles to fall down at your door!']\n"
     ]
    }
   ],
   "source": [
    "print(sent_tokenize(sent))"
   ]
  },
  {
   "cell_type": "code",
   "execution_count": null,
   "metadata": {
    "id": "W98Ya_gxQD2B"
   },
   "outputs": [],
   "source": []
  },
  {
   "cell_type": "markdown",
   "metadata": {
    "id": "Ivw1c48HNqHb"
   },
   "source": [
    "**Stop-words:Stop-words are basically words that don’t have strong meaningful**\n",
    "e.g.‘and’, ‘a’, ‘it's’,of"
   ]
  },
  {
   "cell_type": "code",
   "execution_count": 8,
   "metadata": {
    "id": "ZeSAMs72OwqT"
   },
   "outputs": [],
   "source": [
    "from nltk.corpus import stopwords"
   ]
  },
  {
   "cell_type": "code",
   "execution_count": 9,
   "metadata": {
    "id": "g3A6Hj1lQG9a"
   },
   "outputs": [],
   "source": [
    "stop_words=stopwords.words(\"english\")"
   ]
  },
  {
   "cell_type": "code",
   "execution_count": 10,
   "metadata": {
    "id": "chqzr_Rv2PGS"
   },
   "outputs": [
    {
     "data": {
      "text/plain": [
       "['i',\n",
       " 'me',\n",
       " 'my',\n",
       " 'myself',\n",
       " 'we',\n",
       " 'our',\n",
       " 'ours',\n",
       " 'ourselves',\n",
       " 'you',\n",
       " \"you're\",\n",
       " \"you've\",\n",
       " \"you'll\",\n",
       " \"you'd\",\n",
       " 'your',\n",
       " 'yours',\n",
       " 'yourself',\n",
       " 'yourselves',\n",
       " 'he',\n",
       " 'him',\n",
       " 'his',\n",
       " 'himself',\n",
       " 'she',\n",
       " \"she's\",\n",
       " 'her',\n",
       " 'hers',\n",
       " 'herself',\n",
       " 'it',\n",
       " \"it's\",\n",
       " 'its',\n",
       " 'itself',\n",
       " 'they',\n",
       " 'them',\n",
       " 'their',\n",
       " 'theirs',\n",
       " 'themselves',\n",
       " 'what',\n",
       " 'which',\n",
       " 'who',\n",
       " 'whom',\n",
       " 'this',\n",
       " 'that',\n",
       " \"that'll\",\n",
       " 'these',\n",
       " 'those',\n",
       " 'am',\n",
       " 'is',\n",
       " 'are',\n",
       " 'was',\n",
       " 'were',\n",
       " 'be',\n",
       " 'been',\n",
       " 'being',\n",
       " 'have',\n",
       " 'has',\n",
       " 'had',\n",
       " 'having',\n",
       " 'do',\n",
       " 'does',\n",
       " 'did',\n",
       " 'doing',\n",
       " 'a',\n",
       " 'an',\n",
       " 'the',\n",
       " 'and',\n",
       " 'but',\n",
       " 'if',\n",
       " 'or',\n",
       " 'because',\n",
       " 'as',\n",
       " 'until',\n",
       " 'while',\n",
       " 'of',\n",
       " 'at',\n",
       " 'by',\n",
       " 'for',\n",
       " 'with',\n",
       " 'about',\n",
       " 'against',\n",
       " 'between',\n",
       " 'into',\n",
       " 'through',\n",
       " 'during',\n",
       " 'before',\n",
       " 'after',\n",
       " 'above',\n",
       " 'below',\n",
       " 'to',\n",
       " 'from',\n",
       " 'up',\n",
       " 'down',\n",
       " 'in',\n",
       " 'out',\n",
       " 'on',\n",
       " 'off',\n",
       " 'over',\n",
       " 'under',\n",
       " 'again',\n",
       " 'further',\n",
       " 'then',\n",
       " 'once',\n",
       " 'here',\n",
       " 'there',\n",
       " 'when',\n",
       " 'where',\n",
       " 'why',\n",
       " 'how',\n",
       " 'all',\n",
       " 'any',\n",
       " 'both',\n",
       " 'each',\n",
       " 'few',\n",
       " 'more',\n",
       " 'most',\n",
       " 'other',\n",
       " 'some',\n",
       " 'such',\n",
       " 'no',\n",
       " 'nor',\n",
       " 'not',\n",
       " 'only',\n",
       " 'own',\n",
       " 'same',\n",
       " 'so',\n",
       " 'than',\n",
       " 'too',\n",
       " 'very',\n",
       " 's',\n",
       " 't',\n",
       " 'can',\n",
       " 'will',\n",
       " 'just',\n",
       " 'don',\n",
       " \"don't\",\n",
       " 'should',\n",
       " \"should've\",\n",
       " 'now',\n",
       " 'd',\n",
       " 'll',\n",
       " 'm',\n",
       " 'o',\n",
       " 're',\n",
       " 've',\n",
       " 'y',\n",
       " 'ain',\n",
       " 'aren',\n",
       " \"aren't\",\n",
       " 'couldn',\n",
       " \"couldn't\",\n",
       " 'didn',\n",
       " \"didn't\",\n",
       " 'doesn',\n",
       " \"doesn't\",\n",
       " 'hadn',\n",
       " \"hadn't\",\n",
       " 'hasn',\n",
       " \"hasn't\",\n",
       " 'haven',\n",
       " \"haven't\",\n",
       " 'isn',\n",
       " \"isn't\",\n",
       " 'ma',\n",
       " 'mightn',\n",
       " \"mightn't\",\n",
       " 'mustn',\n",
       " \"mustn't\",\n",
       " 'needn',\n",
       " \"needn't\",\n",
       " 'shan',\n",
       " \"shan't\",\n",
       " 'shouldn',\n",
       " \"shouldn't\",\n",
       " 'wasn',\n",
       " \"wasn't\",\n",
       " 'weren',\n",
       " \"weren't\",\n",
       " 'won',\n",
       " \"won't\",\n",
       " 'wouldn',\n",
       " \"wouldn't\"]"
      ]
     },
     "execution_count": 10,
     "metadata": {},
     "output_type": "execute_result"
    }
   ],
   "source": [
    "stop_words"
   ]
  },
  {
   "cell_type": "code",
   "execution_count": 11,
   "metadata": {
    "id": "pHOR140OQHCO"
   },
   "outputs": [],
   "source": [
    "token=word_tokenize(sent)\n",
    "#token"
   ]
  },
  {
   "cell_type": "code",
   "execution_count": 13,
   "metadata": {
    "colab": {
     "base_uri": "https://localhost:8080/"
    },
    "id": "mMtl75WxQHFT",
    "outputId": "b62e164b-5134-44e2-e0c6-92d446f92280"
   },
   "outputs": [
    {
     "name": "stdout",
     "output_type": "stream",
     "text": [
      "Cleaned_Token:  ['I', 'walk', '500', 'miles', 'I', 'would', 'walk', '500', ',', 'man', 'walks', 'thousand', 'miles', 'fall', 'door', '!']\n",
      "Uncleaned_token:  ['I', 'will', 'walk', '500', 'miles', 'and', 'I', 'would', 'walk', '500', 'more', ',', 'just', 'to', 'be', 'the', 'man', 'who', 'walks', 'a', 'thousand', 'miles', 'to', 'fall', 'down', 'at', 'your', 'door', '!']\n"
     ]
    }
   ],
   "source": [
    "cleaned_token=[]\n",
    "for word in token:\n",
    "  #print(word)\n",
    "  if word not in stop_words:\n",
    "    cleaned_token.append(word)\n",
    "print(\"Cleaned_Token: \",cleaned_token)\n",
    "print(\"Uncleaned_token: \",token)\n"
   ]
  },
  {
   "cell_type": "code",
   "execution_count": null,
   "metadata": {
    "id": "bjPMryNGQHII"
   },
   "outputs": [],
   "source": []
  },
  {
   "cell_type": "markdown",
   "metadata": {
    "id": "yNsEjRicO4kg"
   },
   "source": [
    "**Stemming:**This is when ‘fluff’ letters (not words) are removed from a word and grouped together with its “stem form”. For instance, the words ‘play’, ‘playing’, or ‘plays’ convey the same meaning (although, again, not exactly, but for analysis with a computer, that sort of detail is still not a viable option). So instead of having them as different words, we can put them together under the same umbrella term ‘play’."
   ]
  },
  {
   "cell_type": "markdown",
   "metadata": {
    "id": "U3VQLKfwOn-p"
   },
   "source": [
    "![image.png](data:image/png;base64,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)"
   ]
  },
  {
   "cell_type": "code",
   "execution_count": 14,
   "metadata": {
    "id": "DQwopXM1QQvE"
   },
   "outputs": [],
   "source": [
    "from nltk.stem import PorterStemmer"
   ]
  },
  {
   "cell_type": "code",
   "execution_count": 15,
   "metadata": {
    "id": "TcUK-SLgQUI7"
   },
   "outputs": [],
   "source": [
    "stemmer=PorterStemmer()"
   ]
  },
  {
   "cell_type": "code",
   "execution_count": 16,
   "metadata": {
    "id": "FyLSv4AsQQ2c"
   },
   "outputs": [],
   "source": [
    "words=[\"playful\",\"history\",\"finally\",\"played\",\"gone\",\"winner\",\"complete\",\"graphically\"]"
   ]
  },
  {
   "cell_type": "code",
   "execution_count": 17,
   "metadata": {
    "colab": {
     "base_uri": "https://localhost:8080/"
    },
    "id": "SRRIg4sMQQ7b",
    "outputId": "6c446b2f-2df7-4cf7-8c1c-b408a4cad9b9"
   },
   "outputs": [
    {
     "name": "stdout",
     "output_type": "stream",
     "text": [
      "play\n",
      "histori\n",
      "final\n",
      "play\n",
      "gone\n",
      "winner\n",
      "complet\n",
      "graphic\n"
     ]
    }
   ],
   "source": [
    "for word in words:\n",
    "  print(stemmer.stem(word))\n",
    "\n"
   ]
  },
  {
   "cell_type": "markdown",
   "metadata": {
    "id": "gDK7sgfPO9XT"
   },
   "source": [
    "**Lemmatization:** To use the lemmatization method offered by NTLK, we first need to download the Open Multilingual Wordnet (omw) set. This process should be explicit in a linux environment which is the case of a cloud machine learning service like Paperspace's gradient."
   ]
  },
  {
   "cell_type": "code",
   "execution_count": 22,
   "metadata": {
    "colab": {
     "base_uri": "https://localhost:8080/"
    },
    "id": "XkTn-tgfQZw9",
    "outputId": "a3a05676-8f08-4285-c267-ff8d683a9040"
   },
   "outputs": [
    {
     "name": "stderr",
     "output_type": "stream",
     "text": [
      "[nltk_data] Downloading package omw-1.4 to\n",
      "[nltk_data]     C:\\Users\\DELL\\AppData\\Roaming\\nltk_data...\n",
      "[nltk_data]   Package omw-1.4 is already up-to-date!\n",
      "[nltk_data] Downloading package wordnet to\n",
      "[nltk_data]     C:\\Users\\DELL\\AppData\\Roaming\\nltk_data...\n",
      "[nltk_data]   Package wordnet is already up-to-date!\n"
     ]
    },
    {
     "data": {
      "text/plain": [
       "True"
      ]
     },
     "execution_count": 22,
     "metadata": {},
     "output_type": "execute_result"
    }
   ],
   "source": [
    "#for lemmatization we need this packages\n",
    "nltk.download(\"omw-1.4\")\n",
    "nltk.download(\"wordnet\")"
   ]
  },
  {
   "cell_type": "markdown",
   "metadata": {},
   "source": [
    "#### Lemmatization"
   ]
  },
  {
   "cell_type": "code",
   "execution_count": 23,
   "metadata": {
    "id": "11C4akq6QZ4Y"
   },
   "outputs": [],
   "source": [
    "from nltk.stem.wordnet import WordNetLemmatizer"
   ]
  },
  {
   "cell_type": "code",
   "execution_count": 24,
   "metadata": {
    "id": "U07oQEyaQZ7v"
   },
   "outputs": [],
   "source": [
    "word_net_lemmatizer=WordNetLemmatizer()"
   ]
  },
  {
   "cell_type": "code",
   "execution_count": 25,
   "metadata": {
    "colab": {
     "base_uri": "https://localhost:8080/"
    },
    "id": "2W4tPGelQZ_l",
    "outputId": "20d5af88-a6e3-439d-88f7-cd4e1ff00ba9"
   },
   "outputs": [
    {
     "data": {
      "text/plain": [
       "['playful',\n",
       " 'history',\n",
       " 'finally',\n",
       " 'played',\n",
       " 'gone',\n",
       " 'winner',\n",
       " 'complete',\n",
       " 'graphically']"
      ]
     },
     "execution_count": 25,
     "metadata": {},
     "output_type": "execute_result"
    }
   ],
   "source": [
    "lemmatized_token=[word_net_lemmatizer.lemmatize(word) for word in words]\n",
    "lemmatized_token"
   ]
  },
  {
   "cell_type": "markdown",
   "metadata": {
    "id": "xfDvwDaAPHUs"
   },
   "source": [
    "**Part of Speech tagging:**The part of speech (POS) tag enables us to identify each word's tags, such as its noun, adjective, or other classification.\n",
    "https://www.ling.upenn.edu/courses/Fall_2003/ling001/penn_treebank_pos.html\n",
    "Using this method we can evaluate the presence of a word category in the analyzed text."
   ]
  },
  {
   "cell_type": "code",
   "execution_count": 26,
   "metadata": {
    "id": "6ltogog8Qbpi"
   },
   "outputs": [],
   "source": [
    "pos_tag=nltk.pos_tag(words)"
   ]
  },
  {
   "cell_type": "code",
   "execution_count": 28,
   "metadata": {
    "colab": {
     "base_uri": "https://localhost:8080/"
    },
    "id": "4oxn8jc8Qbvo",
    "outputId": "e7f06583-2ae6-4a90-e40e-e27951766076"
   },
   "outputs": [
    {
     "data": {
      "text/plain": [
       "[('playful', 'JJ'),\n",
       " ('history', 'NN'),\n",
       " ('finally', 'RB'),\n",
       " ('played', 'VBD'),\n",
       " ('gone', 'VBN'),\n",
       " ('winner', 'JJ'),\n",
       " ('complete', 'JJ'),\n",
       " ('graphically', 'RB')]"
      ]
     },
     "execution_count": 28,
     "metadata": {},
     "output_type": "execute_result"
    }
   ],
   "source": [
    "pos_tag"
   ]
  },
  {
   "cell_type": "markdown",
   "metadata": {
    "id": "OD58oSZ_POg5"
   },
   "source": [
    "**Word Frequency Distribution:**Word frequency is another approach used in natural language processing. It can be utilized as an additional feature for tasks such as sentiment analysis or text classification. You may identify which terms appear in your text the most frequently by building a frequency distribution.\n",
    "\n",
    "Here’s how to create a frequency distribution using the FreqDist module of NLTK:"
   ]
  },
  {
   "cell_type": "code",
   "execution_count": 29,
   "metadata": {
    "id": "BG-mY20WQc4o"
   },
   "outputs": [
    {
     "data": {
      "text/plain": [
       "['I',\n",
       " 'will',\n",
       " 'walk',\n",
       " '500',\n",
       " 'miles',\n",
       " 'and',\n",
       " 'I',\n",
       " 'would',\n",
       " 'walk',\n",
       " '500',\n",
       " 'more',\n",
       " ',',\n",
       " 'just',\n",
       " 'to',\n",
       " 'be',\n",
       " 'the',\n",
       " 'man',\n",
       " 'who',\n",
       " 'walks',\n",
       " 'a',\n",
       " 'thousand',\n",
       " 'miles',\n",
       " 'to',\n",
       " 'fall',\n",
       " 'down',\n",
       " 'at',\n",
       " 'your',\n",
       " 'door',\n",
       " '!']"
      ]
     },
     "execution_count": 29,
     "metadata": {},
     "output_type": "execute_result"
    }
   ],
   "source": [
    "token"
   ]
  },
  {
   "cell_type": "code",
   "execution_count": 30,
   "metadata": {
    "id": "9mflADkfQdAi"
   },
   "outputs": [],
   "source": [
    "from nltk import FreqDist\n"
   ]
  },
  {
   "cell_type": "code",
   "execution_count": 31,
   "metadata": {
    "id": "WN8KZ15HQdH3"
   },
   "outputs": [],
   "source": [
    "frequency_distributions=FreqDist(token)"
   ]
  },
  {
   "cell_type": "code",
   "execution_count": 32,
   "metadata": {
    "colab": {
     "base_uri": "https://localhost:8080/"
    },
    "id": "aubbNWT57wFG",
    "outputId": "b1d4ae4f-c2c0-4040-d550-d1c105e4c1fc"
   },
   "outputs": [
    {
     "data": {
      "text/plain": [
       "[('I', 2),\n",
       " ('walk', 2),\n",
       " ('500', 2),\n",
       " ('miles', 2),\n",
       " ('to', 2),\n",
       " ('will', 1),\n",
       " ('and', 1),\n",
       " ('would', 1),\n",
       " ('more', 1),\n",
       " (',', 1)]"
      ]
     },
     "execution_count": 32,
     "metadata": {},
     "output_type": "execute_result"
    }
   ],
   "source": [
    "frequency_distributions.most_common(10)"
   ]
  },
  {
   "cell_type": "markdown",
   "metadata": {
    "id": "3uM7-I9UQl9C"
   },
   "source": [
    "**Text cleaning**"
   ]
  },
  {
   "cell_type": "code",
   "execution_count": 33,
   "metadata": {
    "id": "dIXbQ4D3M3du"
   },
   "outputs": [],
   "source": [
    "paragraph =  \"\"\"I have three visions for India. In 3000 years of our history, people from all over\n",
    "               the world have come and invaded us, captured our lands, conquered our minds.\n",
    "               From Alexander onwards, the Greeks, the Turks, the Moguls, the Portuguese, the British,\n",
    "               the French, the Dutch, all of them came and looted us, took over what was ours.\n",
    "               Yet we have not done this to any other nation. We have not conquered anyone.\n",
    "               We have not grabbed their land, their culture,\n",
    "               their history and tried to enforce our way of life on them.\n",
    "               Why? Because we respect the freedom of others.That is why my\n",
    "               first vision is that of freedom. I believe that India got its first vision of\n",
    "               this in 1857, when we started the War of Independence. It is this freedom that\n",
    "               we must protect and nurture and build on. If we are not free, no one will respect us.\n",
    "               My second vision for India’s development. For fifty years we have been a developing nation.\n",
    "               It is time we see ourselves as a developed nation. We are among the top 5 nations of the world\n",
    "               in terms of GDP. We have a 10 percent growth rate in most areas. Our poverty levels are falling.\n",
    "               Our achievements are being globally recognised today. Yet we lack the self-confidence to\n",
    "               see ourselves as a developed nation, self-reliant and self-assured. Isn’t this incorrect?\n",
    "               I have a third vision. India must stand up to the world. Because I believe that unless India\n",
    "               stands up to the world, no one will respect us. Only strength respects strength. We must be\n",
    "               strong not only as a military power but also as an economic power. Both must go hand-in-hand.\n",
    "               My good fortune was to have worked with three great minds. Dr. Vikram Sarabhai of the Dept. of\n",
    "               space, Professor Satish Dhawan, who succeeded him and Dr. Brahm Prakash, father of nuclear material.\n",
    "               I was lucky to have worked with all three of them closely and consider this the great opportunity of my life.\n",
    "               I see four milestones in my career\"\"\""
   ]
  },
  {
   "cell_type": "code",
   "execution_count": 34,
   "metadata": {
    "id": "JSp1DCrm7_66"
   },
   "outputs": [],
   "source": [
    "import re\n",
    "from nltk.corpus import stopwords\n",
    "from nltk.stem import PorterStemmer\n",
    "from nltk.stem import WordNetLemmatizer\n"
   ]
  },
  {
   "cell_type": "code",
   "execution_count": 35,
   "metadata": {
    "id": "Zrf6bFAM8ADx"
   },
   "outputs": [],
   "source": [
    "ps=PorterStemmer()\n",
    "wordnet=WordNetLemmatizer()"
   ]
  },
  {
   "cell_type": "code",
   "execution_count": 36,
   "metadata": {
    "id": "aWBLmfsD8AJz"
   },
   "outputs": [
    {
     "data": {
      "text/plain": [
       "['I have three visions for India.',\n",
       " 'In 3000 years of our history, people from all over\\n               the world have come and invaded us, captured our lands, conquered our minds.',\n",
       " 'From Alexander onwards, the Greeks, the Turks, the Moguls, the Portuguese, the British,\\n               the French, the Dutch, all of them came and looted us, took over what was ours.',\n",
       " 'Yet we have not done this to any other nation.',\n",
       " 'We have not conquered anyone.',\n",
       " 'We have not grabbed their land, their culture,\\n               their history and tried to enforce our way of life on them.',\n",
       " 'Why?',\n",
       " 'Because we respect the freedom of others.That is why my\\n               first vision is that of freedom.',\n",
       " 'I believe that India got its first vision of\\n               this in 1857, when we started the War of Independence.',\n",
       " 'It is this freedom that\\n               we must protect and nurture and build on.',\n",
       " 'If we are not free, no one will respect us.',\n",
       " 'My second vision for India’s development.',\n",
       " 'For fifty years we have been a developing nation.',\n",
       " 'It is time we see ourselves as a developed nation.',\n",
       " 'We are among the top 5 nations of the world\\n               in terms of GDP.',\n",
       " 'We have a 10 percent growth rate in most areas.',\n",
       " 'Our poverty levels are falling.',\n",
       " 'Our achievements are being globally recognised today.',\n",
       " 'Yet we lack the self-confidence to\\n               see ourselves as a developed nation, self-reliant and self-assured.',\n",
       " 'Isn’t this incorrect?',\n",
       " 'I have a third vision.',\n",
       " 'India must stand up to the world.',\n",
       " 'Because I believe that unless India\\n               stands up to the world, no one will respect us.',\n",
       " 'Only strength respects strength.',\n",
       " 'We must be\\n               strong not only as a military power but also as an economic power.',\n",
       " 'Both must go hand-in-hand.',\n",
       " 'My good fortune was to have worked with three great minds.',\n",
       " 'Dr. Vikram Sarabhai of the Dept.',\n",
       " 'of\\n               space, Professor Satish Dhawan, who succeeded him and Dr. Brahm Prakash, father of nuclear material.',\n",
       " 'I was lucky to have worked with all three of them closely and consider this the great opportunity of my life.',\n",
       " 'I see four milestones in my career']"
      ]
     },
     "execution_count": 36,
     "metadata": {},
     "output_type": "execute_result"
    }
   ],
   "source": [
    "sentences=nltk.sent_tokenize(paragraph )\n",
    "sentences"
   ]
  },
  {
   "cell_type": "code",
   "execution_count": 37,
   "metadata": {
    "colab": {
     "base_uri": "https://localhost:8080/"
    },
    "id": "3dIu732g84nZ",
    "outputId": "5a385ef0-5fc0-4955-cae6-834b3b519a34"
   },
   "outputs": [
    {
     "data": {
      "text/plain": [
       "31"
      ]
     },
     "execution_count": 37,
     "metadata": {},
     "output_type": "execute_result"
    }
   ],
   "source": [
    "len(sentences)"
   ]
  },
  {
   "cell_type": "code",
   "execution_count": 38,
   "metadata": {
    "id": "apS0e1lW_mtQ"
   },
   "outputs": [
    {
     "data": {
      "text/plain": [
       "{'a',\n",
       " 'about',\n",
       " 'above',\n",
       " 'after',\n",
       " 'again',\n",
       " 'against',\n",
       " 'ain',\n",
       " 'all',\n",
       " 'am',\n",
       " 'an',\n",
       " 'and',\n",
       " 'any',\n",
       " 'are',\n",
       " 'aren',\n",
       " \"aren't\",\n",
       " 'as',\n",
       " 'at',\n",
       " 'be',\n",
       " 'because',\n",
       " 'been',\n",
       " 'before',\n",
       " 'being',\n",
       " 'below',\n",
       " 'between',\n",
       " 'both',\n",
       " 'but',\n",
       " 'by',\n",
       " 'can',\n",
       " 'couldn',\n",
       " \"couldn't\",\n",
       " 'd',\n",
       " 'did',\n",
       " 'didn',\n",
       " \"didn't\",\n",
       " 'do',\n",
       " 'does',\n",
       " 'doesn',\n",
       " \"doesn't\",\n",
       " 'doing',\n",
       " 'don',\n",
       " \"don't\",\n",
       " 'down',\n",
       " 'during',\n",
       " 'each',\n",
       " 'few',\n",
       " 'for',\n",
       " 'from',\n",
       " 'further',\n",
       " 'had',\n",
       " 'hadn',\n",
       " \"hadn't\",\n",
       " 'has',\n",
       " 'hasn',\n",
       " \"hasn't\",\n",
       " 'have',\n",
       " 'haven',\n",
       " \"haven't\",\n",
       " 'having',\n",
       " 'he',\n",
       " 'her',\n",
       " 'here',\n",
       " 'hers',\n",
       " 'herself',\n",
       " 'him',\n",
       " 'himself',\n",
       " 'his',\n",
       " 'how',\n",
       " 'i',\n",
       " 'if',\n",
       " 'in',\n",
       " 'into',\n",
       " 'is',\n",
       " 'isn',\n",
       " \"isn't\",\n",
       " 'it',\n",
       " \"it's\",\n",
       " 'its',\n",
       " 'itself',\n",
       " 'just',\n",
       " 'll',\n",
       " 'm',\n",
       " 'ma',\n",
       " 'me',\n",
       " 'mightn',\n",
       " \"mightn't\",\n",
       " 'more',\n",
       " 'most',\n",
       " 'mustn',\n",
       " \"mustn't\",\n",
       " 'my',\n",
       " 'myself',\n",
       " 'needn',\n",
       " \"needn't\",\n",
       " 'no',\n",
       " 'nor',\n",
       " 'not',\n",
       " 'now',\n",
       " 'o',\n",
       " 'of',\n",
       " 'off',\n",
       " 'on',\n",
       " 'once',\n",
       " 'only',\n",
       " 'or',\n",
       " 'other',\n",
       " 'our',\n",
       " 'ours',\n",
       " 'ourselves',\n",
       " 'out',\n",
       " 'over',\n",
       " 'own',\n",
       " 're',\n",
       " 's',\n",
       " 'same',\n",
       " 'shan',\n",
       " \"shan't\",\n",
       " 'she',\n",
       " \"she's\",\n",
       " 'should',\n",
       " \"should've\",\n",
       " 'shouldn',\n",
       " \"shouldn't\",\n",
       " 'so',\n",
       " 'some',\n",
       " 'such',\n",
       " 't',\n",
       " 'than',\n",
       " 'that',\n",
       " \"that'll\",\n",
       " 'the',\n",
       " 'their',\n",
       " 'theirs',\n",
       " 'them',\n",
       " 'themselves',\n",
       " 'then',\n",
       " 'there',\n",
       " 'these',\n",
       " 'they',\n",
       " 'this',\n",
       " 'those',\n",
       " 'through',\n",
       " 'to',\n",
       " 'too',\n",
       " 'under',\n",
       " 'until',\n",
       " 'up',\n",
       " 've',\n",
       " 'very',\n",
       " 'was',\n",
       " 'wasn',\n",
       " \"wasn't\",\n",
       " 'we',\n",
       " 'were',\n",
       " 'weren',\n",
       " \"weren't\",\n",
       " 'what',\n",
       " 'when',\n",
       " 'where',\n",
       " 'which',\n",
       " 'while',\n",
       " 'who',\n",
       " 'whom',\n",
       " 'why',\n",
       " 'will',\n",
       " 'with',\n",
       " 'won',\n",
       " \"won't\",\n",
       " 'wouldn',\n",
       " \"wouldn't\",\n",
       " 'y',\n",
       " 'you',\n",
       " \"you'd\",\n",
       " \"you'll\",\n",
       " \"you're\",\n",
       " \"you've\",\n",
       " 'your',\n",
       " 'yours',\n",
       " 'yourself',\n",
       " 'yourselves'}"
      ]
     },
     "execution_count": 38,
     "metadata": {},
     "output_type": "execute_result"
    }
   ],
   "source": [
    "set(stopwords.words(\"english\"))"
   ]
  },
  {
   "cell_type": "code",
   "execution_count": 39,
   "metadata": {
    "id": "n66zGIkQ84qN"
   },
   "outputs": [
    {
     "name": "stdout",
     "output_type": "stream",
     "text": [
      "i have three visions for india\n",
      "in years of our history people from all over the world have come and invaded us captured our lands conquered our minds\n",
      "from alexander onwards the greeks the turks the moguls the portuguese the british the french the dutch all of them came and looted us took over what was ours\n",
      "yet we have not done this to any other nation\n",
      "we have not conquered anyone\n",
      "we have not grabbed their land their culture their history and tried to enforce our way of life on them\n",
      "why\n",
      "because we respect the freedom of others that is why my first vision is that of freedom\n",
      "i believe that india got its first vision of this in when we started the war of independence\n",
      "it is this freedom that we must protect and nurture and build on\n",
      "if we are not free no one will respect us\n",
      "my second vision for india s development\n",
      "for fifty years we have been a developing nation\n",
      "it is time we see ourselves as a developed nation\n",
      "we are among the top nations of the world in terms of gdp\n",
      "we have a percent growth rate in most areas\n",
      "our poverty levels are falling\n",
      "our achievements are being globally recognised today\n",
      "yet we lack the self confidence to see ourselves as a developed nation self reliant and self assured\n",
      "isn t this incorrect\n",
      "i have a third vision\n",
      "india must stand up to the world\n",
      "because i believe that unless india stands up to the world no one will respect us\n",
      "only strength respects strength\n",
      "we must be strong not only as a military power but also as an economic power\n",
      "both must go hand in hand\n",
      "my good fortune was to have worked with three great minds\n",
      "dr vikram sarabhai of the dept\n",
      "of space professor satish dhawan who succeeded him and dr brahm prakash father of nuclear material\n",
      "i was lucky to have worked with all three of them closely and consider this the great opportunity of my life\n",
      "i see four milestones in my career\n"
     ]
    }
   ],
   "source": [
    "corpus=[]\n",
    "for i in range(len(sentences)):\n",
    "  review=re.sub('[^a-zA-z]',' ',sentences[i])\n",
    "  review=review.lower()\n",
    "  review=review.split()\n",
    "  #review=[wordnet.lemmatize(word) for word in review if word not in set(stopwords.words(\"english\"))]\n",
    "  #review=[ps.stem(word) for word in review if word not in set(stopwords.words(\"english\"))]\n",
    "\n",
    "  review=\" \".join(review)\n",
    "  print(review)\n",
    "  corpus.append(review)\n",
    "  #print(corpus)\n",
    "\n"
   ]
  },
  {
   "cell_type": "code",
   "execution_count": null,
   "metadata": {
    "id": "VmRnQLMZ84yF"
   },
   "outputs": [],
   "source": []
  },
  {
   "cell_type": "code",
   "execution_count": null,
   "metadata": {
    "id": "Or5ZVzL8Q7_j"
   },
   "outputs": [],
   "source": []
  }
 ],
 "metadata": {
  "colab": {
   "provenance": []
  },
  "kernelspec": {
   "display_name": "Python 3 (ipykernel)",
   "language": "python",
   "name": "python3"
  },
  "language_info": {
   "codemirror_mode": {
    "name": "ipython",
    "version": 3
   },
   "file_extension": ".py",
   "mimetype": "text/x-python",
   "name": "python",
   "nbconvert_exporter": "python",
   "pygments_lexer": "ipython3",
   "version": "3.12.0"
  }
 },
 "nbformat": 4,
 "nbformat_minor": 4
}
